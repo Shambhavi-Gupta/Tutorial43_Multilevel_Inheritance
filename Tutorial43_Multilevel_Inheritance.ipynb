{
  "nbformat": 4,
  "nbformat_minor": 0,
  "metadata": {
    "colab": {
      "name": "Tutorial43_Multilevel_Inheritance.ipynb",
      "provenance": [],
      "authorship_tag": "ABX9TyM3+KOBTcAtpEr/uPUtNXZo",
      "include_colab_link": true
    },
    "kernelspec": {
      "name": "python3",
      "display_name": "Python 3"
    }
  },
  "cells": [
    {
      "cell_type": "markdown",
      "metadata": {
        "id": "view-in-github",
        "colab_type": "text"
      },
      "source": [
        "<a href=\"https://colab.research.google.com/github/Shambhavi-Gupta/Tutorial43_Multilevel_Inheritance/blob/main/Tutorial43_Multilevel_Inheritance.ipynb\" target=\"_parent\"><img src=\"https://colab.research.google.com/assets/colab-badge.svg\" alt=\"Open In Colab\"/></a>"
      ]
    },
    {
      "cell_type": "code",
      "metadata": {
        "id": "cGitlH7QPvtN"
      },
      "source": [
        "class Mother():\r\n",
        "    exercise = 2\r\n",
        "\r\n",
        "class Daughter(Mother):\r\n",
        "    badminton = 3\r\n",
        "    exercise = 4\r\n",
        "    def isbadminton(self):\r\n",
        "        return f\"She plays badminton {self.badminton}\"\r\n",
        "\r\n",
        "class GrandDaughter(Daughter):\r\n",
        "    badminton = 1\r\n",
        "    def isbadminton(self):\r\n",
        "        return f\"She plays badminton {self.badminton} in a day\"\r\n",
        "\r\n",
        "riya = Mother()\r\n",
        "priya = Daughter()\r\n",
        "Seema = GrandDaughter()\r\n",
        "#print(Seema.isbadminton())\r\n",
        "print(Seema.exercise)\r\n",
        "\r\n",
        "\r\n"
      ],
      "execution_count": null,
      "outputs": []
    }
  ]
}